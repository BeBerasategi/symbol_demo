{
 "cells": [
  {
   "cell_type": "markdown",
   "id": "0169bfba",
   "metadata": {
    "tags": []
   },
   "source": [
    "# Prototipo app"
   ]
  },
  {
   "cell_type": "markdown",
   "id": "09be8981",
   "metadata": {
    "tags": []
   },
   "source": [
    "## Configuración"
   ]
  },
  {
   "cell_type": "code",
   "execution_count": 10,
   "id": "eb21bb90",
   "metadata": {},
   "outputs": [],
   "source": [
    "import sklearn\n",
    "import tensorflow as tf\n",
    "from tensorflow import keras\n",
    "import numpy as np\n",
    "import matplotlib.pyplot as plt\n",
    "import time \n",
    "import os\n",
    "import cv2\n",
    "\n",
    "# Drawring pad:\n",
    "from ipycanvas_drawing import DrawingWidget\n",
    "from IPython.display import display, Markdown, Latex"
   ]
  },
  {
   "cell_type": "code",
   "execution_count": 11,
   "id": "dd03efd9",
   "metadata": {},
   "outputs": [
    {
     "name": "stdout",
     "output_type": "stream",
     "text": [
      "CPU times: user 7.66 s, sys: 1.18 s, total: 8.84 s\n",
      "Wall time: 8.85 s\n"
     ]
    }
   ],
   "source": [
    "%%time\n",
    "import sys\n",
    "sys.path.append('/home/jovyan/work/databases/HASY/')\n",
    "from hasy_tools_updated import *\n",
    "X_test, y_test, symbol_id2index_test, index2symbol_id_test = load_database('/home/jovyan/work/databases/HASY/benat-data/test.csv')\n",
    "\n",
    "symbolid2latex = get_symbolid2latex()\n",
    "\n",
    "# Preprocess test data:\n",
    "X_test = X_test/ 255.\n",
    "y_test = y_test.astype(int)\n",
    "X_test = X_test.reshape(X_test.shape[0],32,32)[..., np.newaxis]"
   ]
  },
  {
   "cell_type": "code",
   "execution_count": 3,
   "id": "6746c9c5",
   "metadata": {},
   "outputs": [],
   "source": [
    "# Exportar diccionario:\n",
    "import pickle \n",
    "\n",
    "with open('index2symbol_id_test.pkl', 'wb') as f:\n",
    "    pickle.dump(index2symbol_id_test, f)\n",
    "    \n",
    "with open('symbolid2latex.pkl', 'wb') as f:\n",
    "    pickle.dump(symbolid2latex, f)\n",
    "        \n",
    "#with open('saved_dictionary.pkl', 'rb') as f:\n",
    "#    loaded_dict = pickle.load(f)"
   ]
  },
  {
   "cell_type": "code",
   "execution_count": null,
   "id": "6bd69311",
   "metadata": {
    "tags": []
   },
   "outputs": [],
   "source": [
    "symbolid2latex.values()"
   ]
  },
  {
   "cell_type": "markdown",
   "id": "ad991b00",
   "metadata": {
    "tags": []
   },
   "source": [
    "### Funciones necesarias"
   ]
  },
  {
   "cell_type": "code",
   "execution_count": 12,
   "id": "8dc13032",
   "metadata": {},
   "outputs": [],
   "source": [
    "def predict(drawing_widget, model, printlog=None):\n",
    "    image_output = drawing_widget.get_image_data()\n",
    "    img = ((image_output[:,:,-1]/255.0+1)%2).astype(dtype='uint8')\n",
    "    res = cv2.resize(img, dsize=(32, 32), interpolation=cv2.INTER_AREA)\n",
    "\n",
    "    X_mine = np.zeros((1, 32, 32))\n",
    "    X_mine[0] = res\n",
    "    X_mine = X_mine[..., np.newaxis]\n",
    "\n",
    "    #y_pred = np.argmax(model.predict(X_mine, verbose=printlog), axis=-1)\n",
    "    y_probs = model.predict(X_mine, verbose=printlog)\n",
    "    y_pred = np.argmax(y_probs, axis=-1)\n",
    "    \n",
    "    return y_pred, y_probs, res\n",
    "\n",
    "def get_fig_logdir():\n",
    "    root_logdir = os.path.join(os.curdir, \"figs_pruebas\")\n",
    "    run_id = time.strftime(\"fig_%Y_%m_%d-%H_%M_%S\")\n",
    "    return os.path.join(root_logdir, run_id)\n",
    "\n",
    "def print_preds(y_preds, probs, res, print_latex=True, save = False, n=3):    \n",
    "    y_preds = np.argsort(y_probs, axis=1)[:,-n:]\n",
    "    probs = 100*np.sort(y_probs, axis=1)[:,-n:]\n",
    "    for i in range(len(y_probs)):\n",
    "        latex = [symbolid2latex[index2symbol_id_test[k]] for k in y_preds[i][::-1]]\n",
    "        if print_latex:\n",
    "            print_str = f\"Figure {i}:\"\n",
    "            for j in range(0,n):\n",
    "                print_str += f\"$\\quad {latex[j]:15}\\,${probs[i][-1-j]:.2f}%   \"\n",
    "            display(Markdown(print_str))\n",
    "            #display(Markdown(f\"Figure {i}: $\\quad {latex[0]:15}\\,${probs[i][-1]:.2f}% $\\quad {latex[1]:15}${probs[i][-2]:.2f}%   $\\quad {latex[2]:15}${probs[i][-3]:.2f}%\"))\n",
    "        else:\n",
    "            print_str = f\"Figure {i}: \"\n",
    "            for j in range(0,n):\n",
    "                print_str += f\"{latex[j]:15}{probs[i][-1-j]:.2f}% \"\n",
    "            print(print_str)\n",
    "            #print(f\"Figure {i}: {latex[0]:15}{probs[i][-1]:.2f}%   {latex[1]:15}{probs[i][-2]:.2f}%   {latex[2]:15}{probs[i][-3]:.2f}%\")\n",
    "        \n",
    "        plt.figure(figsize=(7.2, 2.4))\n",
    "        plt.axis('off')\n",
    "        plt.title(f'{latex[0]}')\n",
    "        plt.imshow(res, cmap=\"gray\")\n",
    "        if save:\n",
    "            plt.savefig(get_fig_logdir())"
   ]
  },
  {
   "cell_type": "markdown",
   "id": "05198a56",
   "metadata": {
    "tags": []
   },
   "source": [
    "## Modelos"
   ]
  },
  {
   "cell_type": "markdown",
   "id": "651fd1d0",
   "metadata": {
    "tags": []
   },
   "source": [
    "### Modelo entrenado en la base de datos original"
   ]
  },
  {
   "cell_type": "code",
   "execution_count": 13,
   "id": "1a0cb851",
   "metadata": {},
   "outputs": [],
   "source": [
    "#keras.backend.clear_session()\n",
    "#tf.random.set_seed(42)\n",
    "#np.random.seed(42)\n",
    "\n",
    "path_original = '/home/jovyan/work/models/04_CNN/00_MNIST_model/Test_performance/models/best_model.h5'\n",
    "model_original_data = keras.models.load_model(path_original)\n",
    "\n",
    "# Check its architecture\n",
    "# model_original_data.summary()"
   ]
  },
  {
   "cell_type": "code",
   "execution_count": null,
   "id": "ff6d367a",
   "metadata": {},
   "outputs": [],
   "source": [
    "# Evaluación del modelo en el conjunto de test\n",
    "# acc_orginal = model_original_data.evaluate(X_test, y_test, verbose=0)[1]\n",
    "# print(\"TOP1 acc: \", acc_orginal)"
   ]
  },
  {
   "cell_type": "markdown",
   "id": "48274ea1",
   "metadata": {
    "tags": []
   },
   "source": [
    "### Modelo entrenado en la base de datos aumentada"
   ]
  },
  {
   "cell_type": "code",
   "execution_count": 14,
   "id": "a8233e8a",
   "metadata": {},
   "outputs": [],
   "source": [
    "path_aug = '/home/jovyan/work/models/05_CNN_aug/aug_CNN_4_layer_1000/models_aug/best_model.h5'\n",
    "model_aug_data = keras.models.load_model(path_aug)\n",
    "\n",
    "# Check its architecture\n",
    "# model_original_data.summary()"
   ]
  },
  {
   "cell_type": "code",
   "execution_count": null,
   "id": "66c8d5bd",
   "metadata": {},
   "outputs": [],
   "source": [
    "# Evaluación del modelo en el conjunto de test\n",
    "# acc_aug = model_aug_data.evaluate(X_test, y_test, verbose=0)[1]\n",
    "# print(\"TOP1 acc: \", acc_aug)"
   ]
  },
  {
   "cell_type": "markdown",
   "id": "264fa72f",
   "metadata": {},
   "source": [
    "## Prototipo de la app"
   ]
  },
  {
   "cell_type": "code",
   "execution_count": 15,
   "id": "6e39c6eb",
   "metadata": {},
   "outputs": [
    {
     "data": {
      "text/plain": [
       "<ipycanvas_drawing.drawing_widget.DrawingWidget at 0x7f7542139940>"
      ]
     },
     "execution_count": 15,
     "metadata": {},
     "output_type": "execute_result"
    }
   ],
   "source": [
    "from ipycanvas_drawing import DrawingWidget\n",
    "# from IPython.display import display, Markdown, Latex\n",
    "DrawingWidget(200,200)"
   ]
  },
  {
   "cell_type": "code",
   "execution_count": 16,
   "id": "203858a0",
   "metadata": {},
   "outputs": [
    {
     "data": {
      "application/vnd.jupyter.widget-view+json": {
       "model_id": "c65326a33d88463baebb2c697d15a984",
       "version_major": 2,
       "version_minor": 0
      },
      "text/plain": [
       "HBox(children=(MultiCanvas(height=200, sync_image_data=True, width=200), VBox(children=(ToggleButtons(icons=('…"
      ]
     },
     "execution_count": 16,
     "metadata": {},
     "output_type": "execute_result"
    }
   ],
   "source": [
    "# Create a drawing widget\n",
    "# You can set other setup parameters: background, alpha, default_style, default_radius\n",
    "drawing_widget = DrawingWidget(width=200, height=200, background='#f5f5f5', default_radius=15) \n",
    "# Show the drawing widget\n",
    "drawing_widget.show()"
   ]
  },
  {
   "cell_type": "code",
   "execution_count": 17,
   "id": "bae8477b",
   "metadata": {},
   "outputs": [
    {
     "name": "stdout",
     "output_type": "stream",
     "text": [
      "Predicciones del modelo con dataset original:\n"
     ]
    },
    {
     "data": {
      "text/markdown": [
       "Figure 0:$\\quad \\beta          \\,$69.72%   $\\quad \\ss            \\,$8.02%   $\\quad \\xi            \\,$5.77%   $\\quad \\zeta          \\,$4.00%   $\\quad \\varrho        \\,$3.50%   "
      ],
      "text/plain": [
       "<IPython.core.display.Markdown object>"
      ]
     },
     "metadata": {},
     "output_type": "display_data"
    },
    {
     "name": "stdout",
     "output_type": "stream",
     "text": [
      "\n",
      "\n",
      "Predicciones del modelo con dataset aumentado:\n",
      "Figure 0: 3              88.12% \\mathcal{B}    8.77% \\ss            1.00% \\beta          0.99% \\rho           0.39% \n"
     ]
    },
    {
     "data": {
      "image/png": "[encoded data removed]",
      "text/plain": [
       "<Figure size 720x240 with 1 Axes>"
      ]
     },
     "metadata": {},
     "output_type": "display_data"
    },
    {
     "data": {
      "image/png": "[encoded data removed]",
      "text/plain": [
       "<Figure size 720x240 with 1 Axes>"
      ]
     },
     "metadata": {},
     "output_type": "display_data"
    }
   ],
   "source": [
    "print(\"Predicciones del modelo con dataset original:\")\n",
    "y_pred, y_probs, res = predict(drawing_widget, model_original_data)\n",
    "print_preds(y_pred, y_probs, res, print_latex=True, save=False, n=5)\n",
    "#print_preds(y_pred, y_probs, res, print_latex=True)\n",
    "print(\"\\n\")\n",
    "\n",
    "print(\"Predicciones del modelo con dataset aumentado:\")\n",
    "y_pred, y_probs, res = predict(drawing_widget, model_aug_data)\n",
    "print_preds(y_pred, y_probs, res, print_latex=False, save=False, n=5)"
   ]
  },
  {
   "cell_type": "code",
   "execution_count": null,
   "id": "2da399c0",
   "metadata": {},
   "outputs": [],
   "source": []
  }
 ],
 "metadata": {
  "kernelspec": {
   "display_name": "Python 3 (ipykernel)",
   "language": "python",
   "name": "python3"
  },
  "language_info": {
   "codemirror_mode": {
    "name": "ipython",
    "version": 3
   },
   "file_extension": ".py",
   "mimetype": "text/x-python",
   "name": "python",
   "nbconvert_exporter": "python",
   "pygments_lexer": "ipython3",
   "version": "3.8.10"
  }
 },
 "nbformat": 4,
 "nbformat_minor": 5
}

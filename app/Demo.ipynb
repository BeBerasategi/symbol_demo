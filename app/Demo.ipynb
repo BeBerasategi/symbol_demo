{
 "cells": [
  {
   "cell_type": "markdown",
   "id": "f52d7ab8",
   "metadata": {
    "tags": []
   },
   "source": [
    "### Demo: predicción de símbolos matemáticos escritos a mano\n",
    "---\n",
    "_Autor: Beñat Berasategui Miguéliz_.\n",
    "\n",
    "**Instrucciones:** Para ver un ejemplo, pulsar el botón *ejemplo* y después *predecir*. Pulsar *borrar*. Para introducir un símbolo, se debe desplazar el ratón hasta la sección gris. Para dibujar hacer click izquierdo y, sin soltar, desplazar el ratón. Pulsar en *predecir*. El funcionamiento óptimo se obtiene dibujando los símbolos de manera que ocupen el mayor espacio posible en la zona gris, y con el tamaño de brocha por defecto. Ver la parte inferior de la página para más información."
   ]
  },
  {
   "cell_type": "code",
   "execution_count": 18,
   "id": "b34234b8",
   "metadata": {},
   "outputs": [],
   "source": [
    "import sklearn\n",
    "from tensorflow import keras\n",
    "import cv2\n",
    "import numpy as np\n",
    "import ipywidgets as widgets\n",
    "import pickle \n",
    "import itertools"
   ]
  },
  {
   "cell_type": "code",
   "execution_count": 14,
   "id": "7bce35eb",
   "metadata": {},
   "outputs": [],
   "source": [
    "# Cargar diccionarios necesarios\n",
    "with open('index2symbol_id_test.pkl', 'rb') as f:\n",
    "    index2symbol_id_test = pickle.load(f) \n",
    "with open('symbolid2latex.pkl', 'rb') as f:\n",
    "    symbolid2latex = pickle.load(f)\n",
    "    \n",
    "# Modelo con base de datos original:\n",
    "# path_original = '/home/jovyan/work/models/04_CNN/00_MNIST_model/Test_performance/models/best_model.h5'\n",
    "model_original_data = keras.models.load_model('modelo_original.h5')\n",
    "\n",
    "# Modelo con base de datos aumentada:\n",
    "# path_aug = '/home/jovyan/work/models/05_CNN_aug/aug_1000/models_aug/best_model.h5'\n",
    "model_aug_data = keras.models.load_model('modelo_augmented.h5')"
   ]
  },
  {
   "cell_type": "code",
   "execution_count": 19,
   "id": "6f3f84c0-640d-476d-b81e-643ae613255a",
   "metadata": {
    "tags": []
   },
   "outputs": [],
   "source": [
    "# Diccionario de símbolos equivalentes (ver hasy_tools_updated.py)\n",
    "\n",
    "equiv_dict={\n",
    "    0 : (r'\\mid', r'|'),\n",
    "    1 : (r'\\triangle', r'\\Delta', r'\\vartriangle'),\n",
    "    2 : (r'\\checked', r'\\checkmark'),\n",
    "    3 : (r'\\shortrightarrow', r'\\rightarrow', r'\\longrightarrow'),\n",
    "    4 : (r'\\Longrightarrow', r'\\Rightarrow'),\n",
    "    5 : (r'\\backslash', r'\\setminus'),\n",
    "    6 : (r'\\O', r'\\o', r'\\emptyset', r'\\diameter', r'\\varnothing'),\n",
    "    7 : (r'\\with', r'\\&'),\n",
    "    8 : (r'\\triangledown', r'\\nabla'),\n",
    "    9 : (r'\\longmapsto', r'\\mapsto'),\n",
    "    10 : (r'\\dotsc', r'\\dots'),\n",
    "    11 : (r'\\fullmoon', r'\\circ', r'o', '\\degree'),\n",
    "    12 : (r'\\varpropto', r'\\propto', r'\\alpha'),\n",
    "    13 : (r'\\mathsection', r'\\S'),\n",
    "    14 : (r'\\vDash', r'\\models'),\n",
    "    15 : (r'c', r'C', r'\\subset', r'\\mathcal{C}'),\n",
    "    16 : (r'v', r'V', r'\\vee'),\n",
    "    17 : (r'x', r'X', r'\\times'),\n",
    "    18 : (r'\\mathbb{Z}', r'\\mathds{Z}'),\n",
    "    19 : (r'T', r'\\top'),\n",
    "    20 : (r's', r'S', r'\\mathcal{S}'),\n",
    "    21 : (r'z', r'Z', r'\\mathcal{Z}'),\n",
    "    22 : (r'\\mathbb{R}', r'\\mathds{R}'),\n",
    "    23 : (r'\\mathbb{Q}', r'\\mathds{Q}'),\n",
    "    24 : (r'\\mathbb{N}', r'\\mathds{N}'),\n",
    "    25 : (r'\\oiint', r'\\varoiint'),\n",
    "    26 : (r'\\lhd', r'\\triangleleft'),\n",
    "    27 : (r'\\sum', r'\\Sigma'),\n",
    "    28 : (r'\\prod', r'\\Pi', r'\\sqcap'),\n",
    "    29 : (r'\\mathcal{B}', r'B'),\n",
    "    30 : (r'\\mathcal{D}', r'D', r'\\mathscr{D}'),\n",
    "    31 : (r'\\mathcal{H}', r'H'),\n",
    "    32 : (r'\\mathcal{M}', r'M'),\n",
    "    33 : (r'\\mathcal{N}', r'N', r'\\mathscr{N}'),\n",
    "    34 : (r'\\mathcal{O}', r'O', r'0'),\n",
    "    35 : (r'\\mathcal{P}', r'P'),\n",
    "    36 : (r'\\mathcal{R}', r'R', r'\\mathscr{R}'),\n",
    "    37 : (r'\\coprod', r'\\amalg', r'\\sqcup'),\n",
    "    38 : (r'\\bot', r'\\perp'),\n",
    "    39 : (r'\\|', r'\\parallel'),\n",
    "    40 : (r'\\ohm', r'\\Omega'),\n",
    "    41 : (r'\\#', r'\\sharp'),\n",
    "    42 : (r'\\mathcal{A}', r'\\mathscr{A}'),\n",
    "    43 : (r'\\epsilon', r'\\varepsilon', r'\\in', r'\\mathcal{E}'),\n",
    "    44 : (r'\\Lambda', r'\\wedge'),\n",
    "    45 : (r'\\Leftrightarrow', r'\\Longleftrightarrow'),\n",
    "    46 : (r'\\mathds{1}', r'\\mathbb{1}'),\n",
    "    47 : (r'\\mathscr{L}', r'\\mathcal{L}'),\n",
    "    48 : (r'\\rho', r'\\varrho'),\n",
    "    49 : (r'\\odot', r'\\astrosun'),\n",
    "    50 : (r'\\cdot', r'\\bullet'),\n",
    "    51 : (r'\\chi', r'\\mathcal{X}'),\n",
    "    52 : (r'\\beta', r'\\ss'),\n",
    "    53 : (r'\\male', r'\\mars'),\n",
    "    54 : (r'\\female', r'\\venus'),\n",
    "    55 : (r'\\bowtie', r'\\Bowtie'),\n",
    "    56 : (r'\\mathcal{T}', r'\\tau'),\n",
    "    57 : (r'\\diamond', r'\\diamondsuit', r'\\lozenge'),\n",
    "}\n",
    "\n",
    "# List all the symbols in the equivalence dictionary:\n",
    "equiv_list = list(itertools.chain.from_iterable(equiv_dict.values()))\n",
    "\n",
    "# Invert the dictionary to find equivalent symbols easier:\n",
    "inverted_dict = {value: key for key, values in equiv_dict.items() for value in values}"
   ]
  },
  {
   "cell_type": "code",
   "execution_count": 3,
   "id": "c4cd0c2d",
   "metadata": {
    "tags": []
   },
   "outputs": [],
   "source": [
    "def predict(drawing_widget, model, printlog=None, n=5):\n",
    "    image_output = drawing_widget.get_image_data()\n",
    "    img = ((image_output[:,:,-1]/255.0+1)%2).astype(dtype='uint8')\n",
    "    res = cv2.resize(img, dsize=(32, 32), interpolation=cv2.INTER_AREA)\n",
    "\n",
    "    X_mine = np.zeros((1, 32, 32))\n",
    "    X_mine[0] = res\n",
    "    X_mine = X_mine[..., np.newaxis]\n",
    "\n",
    "    y_probs = model.predict(X_mine, verbose=printlog) # Probabilities\n",
    "    y_pred = np.argmax(y_probs, axis=-1) # Predictions\n",
    "        \n",
    "    y_preds = np.argsort(y_probs, axis=1)[:,-n:]\n",
    "    probs = 100*np.sort(y_probs, axis=1)[:,-n:]\n",
    "    command_list = []\n",
    "    prob_list = []\n",
    "    \n",
    "    for i in range(len(y_probs)):\n",
    "        latex = [symbolid2latex[index2symbol_id_test[k]] for k in y_preds[i][::-1]]\n",
    "        for j in range(0,n):\n",
    "            command_list.append(latex[j])\n",
    "            prob_list.append(probs[i][-1-j])\n",
    "\n",
    "    return command_list, prob_list"
   ]
  },
  {
   "cell_type": "code",
   "execution_count": 27,
   "id": "aad14425",
   "metadata": {},
   "outputs": [],
   "source": [
    "def actualizar_prediccion():\n",
    "    global command_dict, prob_dict\n",
    "        \n",
    "    original_model_out = predict(drawing_widget, model_original_data)\n",
    "    augmented_model_out = predict(drawing_widget, model_aug_data)\n",
    "    command_dict = {'original':original_model_out[0], 'augmented':augmented_model_out[0]}\n",
    "    prob_dict = {'original':original_model_out[1], 'augmented':augmented_model_out[1]}\n",
    "    \n",
    "    with output:\n",
    "        output.clear_output(wait=True)\n",
    "        display(refresh_layout())\n",
    "        \n",
    "    with drawing_widget.output_dropdown:\n",
    "        drawing_widget.output_dropdown.clear_output(wait=True)\n",
    "        display(refresh_dropdown())"
   ]
  },
  {
   "cell_type": "code",
   "execution_count": 40,
   "id": "ea1b737c-9827-4b90-8941-a4387d932f86",
   "metadata": {},
   "outputs": [],
   "source": [
    "def fig_name_from_command(command):\n",
    "    if command in ('|','\\|','/'):\n",
    "        if command == '|':\n",
    "            fig_name = '/especial/textpipe'\n",
    "        elif command == '\\|':\n",
    "            fig_name = '/especial/|'\n",
    "        else:\n",
    "            fig_name = '/especial/textslash'\n",
    "    elif command in ('\\o','\\O'):\n",
    "        if command == '\\o':\n",
    "            fig_name = 'o_'\n",
    "        else:\n",
    "            fig_name = 'O_'\n",
    "    elif command[0] == '\\\\':\n",
    "        fig_name = command[1:]\n",
    "    else:\n",
    "        fig_name = command\n",
    "    return fig_name\n",
    "\n",
    "def load_img_from_command(command):\n",
    "    fig_name = fig_name_from_command(command)\n",
    "    try:\n",
    "        fig = widgets.Image(value=open(f\"png/{fig_name}.png\", \"rb\").read(),format='png')\n",
    "    except:\n",
    "        # Empty image if there is any error.\n",
    "        fig = widgets.Image(value=open(\"png/empty.png\", \"rb\").read(),format='png')\n",
    "    finally:\n",
    "        return fig"
   ]
  },
  {
   "cell_type": "code",
   "execution_count": 42,
   "id": "ef9f7c08-82bb-49c7-a942-9ef8a73662fe",
   "metadata": {},
   "outputs": [],
   "source": [
    "def dropdown_eventhandler(change):\n",
    "    if change['type'] == 'change' and change['name'] == 'value':\n",
    "        fig = load_img_from_command(change['new'])\n",
    "        fig.layout.margin = '10px 0 0 80px'\n",
    "        fig.layout.height='100px'\n",
    "        fig.layout.object_fit = 'contain'\n",
    "        with drawing_widget.output_img:\n",
    "            drawing_widget.output_img.clear_output(wait=True)\n",
    "            display(fig)"
   ]
  },
  {
   "cell_type": "code",
   "execution_count": 48,
   "id": "12f58bdd-b5e4-4eb4-a5c0-ce98cd079fae",
   "metadata": {},
   "outputs": [],
   "source": [
    "def refresh_dropdown():\n",
    "    command = command_dict['augmented'][0]\n",
    "    \n",
    "    if command not in equiv_list:\n",
    "        fig = load_img_from_command(command)\n",
    "        dropdown = widgets.Label(value=command) #widgets.Dropdown(options=[(command, 1)],value=1)\n",
    "        dropdown.layout.margin = '0 0 0 20px'\n",
    "        \n",
    "    else:\n",
    "        key = inverted_dict[command]\n",
    "        equiv_symbs = equiv_dict[key]\n",
    "        dropdown = widgets.Dropdown(\n",
    "                        options=equiv_symbs,\n",
    "                        value=equiv_symbs[0],\n",
    "                        )\n",
    "        fig = load_img_from_command(equiv_symbs[0])\n",
    "        \n",
    "    dropdown.observe(dropdown_eventhandler)\n",
    "    \n",
    "    with drawing_widget.output_img:\n",
    "        fig.layout.margin = '10px 0 0 80px'\n",
    "        fig.layout.height = '100px'\n",
    "        fig.layout.object_fit = 'contain'\n",
    "        \n",
    "        drawing_widget.output_img.clear_output(wait=True)\n",
    "        display(fig)\n",
    "        \n",
    "    return dropdown"
   ]
  },
  {
   "cell_type": "code",
   "execution_count": 49,
   "id": "c9f17ce2-7a42-4ea0-9316-ade5feb43bdb",
   "metadata": {},
   "outputs": [],
   "source": [
    "def refresh_layout():\n",
    "    fig_dict = dict() \n",
    "    text_dict = dict()\n",
    "    text_prob_dict = dict()\n",
    "    widg_dict = dict()\n",
    "\n",
    "    titles = {'original':\"Predicciones del sistema original\", 'augmented':\"Predicciones del sistema mejorado\"}\n",
    "\n",
    "    for model in ('original', 'augmented'):\n",
    "        fig_dict[model] = []\n",
    "        text_dict[model] = []\n",
    "        text_prob_dict[model] = []\n",
    "        widg_dict[model] = []\n",
    "\n",
    "        for command in command_dict[model]:\n",
    "            text_dict[model].append(widgets.Label(value = f\"{command}\",style = {'font_size':'15pt', 'font_family':'monospace'}))\n",
    "            # Process fig_name to open the correct png.\n",
    "            #command = command.strip()\n",
    "            fig_name = fig_name_from_command(command)\n",
    "            try:\n",
    "                fig = widgets.Image(value=open(f\"png/{fig_name}.png\", \"rb\").read(),format='png',width=20,height=20,)\n",
    "            except:\n",
    "                # Empty image if there is any error.\n",
    "                fig = widgets.Image(value=open(\"png/empty.png\", \"rb\").read(),format='png',width=20,height=20,)\n",
    "            finally:\n",
    "                fig_dict[model].append(fig)\n",
    "\n",
    "        for prob in prob_dict[model]:\n",
    "            if type(prob) != str:\n",
    "                text_prob_dict[model].append(widgets.Label(value = f\"{prob:.2f}%\",style = {'font_size':'15pt', 'font_family':'monospace'}))\n",
    "            else:\n",
    "                text_prob_dict[model].append(widgets.Label(value = f\"     \",style = {'font_size':'13pt', 'font_family':'monospace'}))\n",
    "\n",
    "        widg_dict[model].append(widgets.Label(value = titles[model], style = {'font_size':'13pt', 'font_weight':'bold'}))\n",
    "    \n",
    "        for i in range(5):\n",
    "            widg_dict[model].append(widgets.AppLayout(\n",
    "                      left_sidebar=fig_dict[model][i],\n",
    "                      center=text_prob_dict[model][i],\n",
    "                      right_sidebar=text_dict[model][i],\n",
    "                      pane_widths=[1, 2, 4],\n",
    "                      align_items='center',\n",
    "                      justify_items='flex-start',\n",
    "                      height=\"40px\", width=\"80%\",\n",
    "                      grid_gap=\"10px\"))\n",
    "            \n",
    "        \n",
    "    #return widgets.HBox([widgets.VBox(widg_dict['original']), widgets.VBox(widg_dict['augmented'])])\n",
    "    sistema_original = widgets.VBox(widg_dict['original'])\n",
    "    sistema_aumentado = widgets.VBox(widg_dict['augmented'])\n",
    "    sistema_original.layout.flex = '1'\n",
    "    sistema_aumentado.layout.flex = '1'\n",
    "    \n",
    "    display_predictions = widgets.HBox([sistema_original, sistema_aumentado])\n",
    "    #display_predictions.layout.width = '2000px' \n",
    "    \n",
    "    return display_predictions"
   ]
  },
  {
   "cell_type": "code",
   "execution_count": 12,
   "id": "df175505-4785-438a-9748-53e67dae3a7b",
   "metadata": {},
   "outputs": [],
   "source": [
    "from drawing_widget_modified import DrawingWidget\n",
    "drawing_widget = DrawingWidget(width=200, height=200, external_function=actualizar_prediccion)"
   ]
  },
  {
   "cell_type": "code",
   "execution_count": 13,
   "id": "e664a088",
   "metadata": {},
   "outputs": [
    {
     "data": {
      "application/vnd.jupyter.widget-view+json": {
       "model_id": "0393355ec6b449a69f9096d054288dbb",
       "version_major": 2,
       "version_minor": 0
      },
      "text/plain": [
       "HBox(children=(MultiCanvas(height=200, image_data=b'\\x89PNG\\r\\n\\x1a\\n\\x00\\x00\\x00\\rIHDR\\x00\\x00\\x00\\xc8\\x00\\x0…"
      ]
     },
     "execution_count": 13,
     "metadata": {},
     "output_type": "execute_result"
    }
   ],
   "source": [
    "drawing_widget.show()"
   ]
  },
  {
   "cell_type": "code",
   "execution_count": 8,
   "id": "4f691c4d-d509-4044-adab-8d431aadab97",
   "metadata": {},
   "outputs": [
    {
     "data": {
      "application/vnd.jupyter.widget-view+json": {
       "model_id": "a9509a8b88164868be9161e03ae14045",
       "version_major": 2,
       "version_minor": 0
      },
      "text/plain": [
       "Output(outputs=({'output_type': 'display_data', 'data': {'text/plain': \"HBox(children=(VBox(children=(Label(va…"
      ]
     },
     "metadata": {},
     "output_type": "display_data"
    }
   ],
   "source": [
    "# from IPython.display import display\n",
    "\n",
    "# Initialize empty\n",
    "command_dict = {'original':[' ']*5, 'augmented':[' ']*5}\n",
    "prob_dict = {'original':['']*5, 'augmented':[' ']*5}\n",
    "\n",
    "output = widgets.Output()\n",
    "output.append_display_data(refresh_layout())\n",
    "display(output)"
   ]
  },
  {
   "cell_type": "markdown",
   "id": "9add5984-8cec-4cd0-a5b1-3f608b74b36f",
   "metadata": {},
   "source": [
    "---\n",
    "**Más información**\n",
    "\n",
    "Hay ciertos símbolos que resultan prácticamente indistinguibles cuando se escriben a mano. En este proyecto se han definido varios grupos de símbolos equivalentes de este tipo. Cuando el sistema predice un símbolo que pertenece a uno de estos grupos, aparece un menú desplegable que permite elegir entre los elementos del grupo y muestra la imagen correspondiente.\n",
    "\n",
    "El *sistema original* se ha entrenado utilizando la base de datos [HASY](https://arxiv.org/pdf/1701.08380), sin arreglar el desequilibrio entre las clases. Hay clases que contienen más de 1000 muestras y otras que solo tienen 50. Esto se refleja en el funcionamiento del modelo obtenido, ya que hay clases que se predicen con mayor probabilidad. El _sistema mejorado_ se ha entrenado con una base de datos en la que se ha utilizado la técnica llamada \"aumento de datos\". De esta manera, se ha conseguido que todas las clases tengan el mismo número de muestras: 1000. Se espera que el funcionamiento general de este segundo sistema sea mejor que el del primero. Por eso, es el que se utiliza para dar la predicción principal en la parte superior derecha.\n",
    "\n",
    "Esta demo forma parte de mi Trabajo de Fin de Grado de Ingeniería Electrónica, *Estudio, desarrollo y evaluación de técnicas de aprendizaje automático\n",
    "para el reconocimiento de símbolos matemáticos escritos a mano*.\n",
    "\n",
    "La aplicación está inspirada en [Detextify](https://detexify.kirelabs.org/)."
   ]
  }
 ],
 "metadata": {
  "kernelspec": {
   "display_name": "Python 3 (ipykernel)",
   "language": "python",
   "name": "python3"
  },
  "language_info": {
   "codemirror_mode": {
    "name": "ipython",
    "version": 3
   },
   "file_extension": ".py",
   "mimetype": "text/x-python",
   "name": "python",
   "nbconvert_exporter": "python",
   "pygments_lexer": "ipython3",
   "version": "3.8.10"
  }
 },
 "nbformat": 4,
 "nbformat_minor": 5
}
